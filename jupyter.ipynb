{
 "cells": [
  {
   "cell_type": "code",
   "execution_count": 7,
   "id": "cb3d7edc",
   "metadata": {},
   "outputs": [
    {
     "name": "stdout",
     "output_type": "stream",
     "text": [
      "usman ghani\n"
     ]
    }
   ],
   "source": [
    "Name=\"usman ghani\"\n",
    "print(Name)"
   ]
  },
  {
   "cell_type": "code",
   "execution_count": 8,
   "id": "5581f41b",
   "metadata": {},
   "outputs": [
    {
     "name": "stdout",
     "output_type": "stream",
     "text": [
      "python programing\n"
     ]
    }
   ],
   "source": [
    "Name=\"python programing\"\n",
    "print(Name)"
   ]
  },
  {
   "cell_type": "code",
   "execution_count": null,
   "id": "0a89ba06",
   "metadata": {},
   "outputs": [],
   "source": []
  },
  {
   "cell_type": "code",
   "execution_count": null,
   "id": "ea16b71c",
   "metadata": {},
   "outputs": [],
   "source": []
  },
  {
   "cell_type": "code",
   "execution_count": 9,
   "id": "7489e4ff",
   "metadata": {},
   "outputs": [
    {
     "name": "stdout",
     "output_type": "stream",
     "text": [
      "13\n",
      "65.5\n",
      "1.7\n",
      "36.6\n"
     ]
    }
   ],
   "source": [
    "a=10\n",
    "b=3\n",
    "result=a+b\n",
    "print(a+b)\n",
    "weight=65.5 #in kg\n",
    "milkQuantity=1.7 #in liters\n",
    "temperature=36.6 #in celici0us\n",
    "print(weight)\n",
    "print(milkQuantity)\n",
    "print(temperature)\n"
   ]
  },
  {
   "cell_type": "code",
   "execution_count": 10,
   "id": "5b06e303",
   "metadata": {},
   "outputs": [
    {
     "name": "stdout",
     "output_type": "stream",
     "text": [
      "25\n",
      "2024\n",
      "50\n"
     ]
    }
   ],
   "source": [
    "age = 25\n",
    "year = 2024\n",
    "numberofstudents = 50\n",
    "print (age) \n",
    "print (year)\n",
    "print (numberofstudents)"
   ]
  },
  {
   "cell_type": "code",
   "execution_count": 11,
   "id": "83cc5613",
   "metadata": {},
   "outputs": [
    {
     "name": "stdout",
     "output_type": "stream",
     "text": [
      "Hello,Ali Welcome to python.\n"
     ]
    }
   ],
   "source": [
    "def greet_user(name):\n",
    "    print(f\"Hello,{name} Welcome to python.\")\n",
    "greet_user(\"Ali\")\n",
    "    "
   ]
  },
  {
   "cell_type": "code",
   "execution_count": 12,
   "id": "926007d4",
   "metadata": {},
   "outputs": [
    {
     "name": "stdout",
     "output_type": "stream",
     "text": [
      "curren working directory: c:\\Users\\user\\Desktop\\python\n"
     ]
    }
   ],
   "source": [
    "import os\n",
    "\n",
    "current_directory = os.getcwd()\n",
    "print(\"curren working directory:\",current_directory)\n"
   ]
  },
  {
   "cell_type": "code",
   "execution_count": 13,
   "id": "7edf49e9",
   "metadata": {},
   "outputs": [
    {
     "name": "stdout",
     "output_type": "stream",
     "text": [
      "the square root of 25 is:5.0\n"
     ]
    }
   ],
   "source": [
    "import math\n",
    "\n",
    "number = 25\n",
    "square_root = math.sqrt(number)\n",
    "print(f\"the square root of {number} is:{square_root}\")"
   ]
  },
  {
   "cell_type": "code",
   "execution_count": null,
   "id": "2303e83a",
   "metadata": {},
   "outputs": [],
   "source": []
  },
  {
   "cell_type": "code",
   "execution_count": null,
   "id": "cb9786bf",
   "metadata": {},
   "outputs": [],
   "source": []
  },
  {
   "cell_type": "code",
   "execution_count": 14,
   "id": "fe9bf79e",
   "metadata": {},
   "outputs": [
    {
     "ename": "NameError",
     "evalue": "name 'student' is not defined",
     "output_type": "error",
     "traceback": [
      "\u001b[31m---------------------------------------------------------------------------\u001b[39m",
      "\u001b[31mNameError\u001b[39m                                 Traceback (most recent call last)",
      "\u001b[36mCell\u001b[39m\u001b[36m \u001b[39m\u001b[32mIn[14]\u001b[39m\u001b[32m, line 4\u001b[39m\n\u001b[32m      3\u001b[39m \u001b[38;5;66;03m#  Create student instnces\u001b[39;00m\n\u001b[32m----> \u001b[39m\u001b[32m4\u001b[39m student1 = \u001b[43mstudent\u001b[49m(\u001b[33m\"\u001b[39m\u001b[33mAli\u001b[39m\u001b[33m\"\u001b[39m, \u001b[32m16\u001b[39m,\u001b[33m\"\u001b[39m\u001b[33m10th\u001b[39m\u001b[33m\"\u001b[39m)\n\u001b[32m      5\u001b[39m student2 = student(\u001b[33m\"\u001b[39m\u001b[33msara\u001b[39m\u001b[33m\"\u001b[39m, \u001b[32m15\u001b[39m,\u001b[33m\"\u001b[39m\u001b[33m9th\u001b[39m\u001b[33m\"\u001b[39m)\n\u001b[32m      7\u001b[39m student1.study()\n",
      "\u001b[31mNameError\u001b[39m: name 'student' is not defined"
     ]
    }
   ],
   "source": [
    "\n",
    "\n",
    "#  Create student instnces\n",
    "student1 = student(\"Ali\", 16,\"10th\")\n",
    "student2 = student(\"sara\", 15,\"9th\")\n",
    "\n",
    "student1.study()\n",
    "student2.take_exame()\n",
    "\n",
    "       "
   ]
  },
  {
   "cell_type": "code",
   "execution_count": null,
   "id": "304f22b1",
   "metadata": {},
   "outputs": [
    {
     "name": "stdout",
     "output_type": "stream",
     "text": [
      "The Car is a ToyataCorola.\n"
     ]
    }
   ],
   "source": [
    "brand = \"Toyata\"\n",
    "model = \"Corola\"\n",
    "print(f\"The Car is a {brand}{model}.\")"
   ]
  },
  {
   "cell_type": "markdown",
   "id": "caeae9da",
   "metadata": {},
   "source": []
  },
  {
   "cell_type": "code",
   "execution_count": null,
   "id": "f82a3d1c",
   "metadata": {},
   "outputs": [
    {
     "ename": "SyntaxError",
     "evalue": "invalid syntax. Perhaps you forgot a comma? (2867894020.py, line 2)",
     "output_type": "error",
     "traceback": [
      "  \u001b[36mCell\u001b[39m\u001b[36m \u001b[39m\u001b[32mIn[10]\u001b[39m\u001b[32m, line 2\u001b[39m\n\u001b[31m    \u001b[39m\u001b[31m\"_init_\"(\"self\" name: breed:)\u001b[39m\n             ^\n\u001b[31mSyntaxError\u001b[39m\u001b[31m:\u001b[39m invalid syntax. Perhaps you forgot a comma?\n"
     ]
    }
   ],
   "source": [
    "class Dog:\n",
    "    def_init_\"(\"self\" name: breed:)\n",
    "       self\".name  = name\"\"\n",
    "       self\".breed = \"breed\"\n",
    "    \n",
    "    def bark(self):\n",
    "        print(f\"{self.name}is barking\")\n",
    "               \n",
    "    def sit(self):\n",
    "        print(f\"{self.name}is sitting\")\n",
    "    \n",
    "\n"
   ]
  },
  {
   "cell_type": "code",
   "execution_count": 3,
   "id": "62bf027e",
   "metadata": {},
   "outputs": [
    {
     "name": "stdout",
     "output_type": "stream",
     "text": [
      "i will buy nothing\n"
     ]
    }
   ],
   "source": [
    "amount = int(input(\"Enter your balance:\"))\n",
    "if amount ==1000:\n",
    "   print(\"i will  buy the shirt\") \n",
    "if amount ==500:    \n",
    "   print(\"iwill buy the shoes\")\n",
    "if amount ==200:\n",
    "   print(\"i will buy the neckless\")\n",
    "if amount ==0:\n",
    "   print (\"i will buy nothing\")"
   ]
  },
  {
   "cell_type": "code",
   "execution_count": null,
   "id": "232a96d9",
   "metadata": {},
   "outputs": [],
   "source": []
  },
  {
   "cell_type": "markdown",
   "id": "fbee2e72",
   "metadata": {},
   "source": [
    "  Character is a single letter, digit, or symbol, \n",
    "In Python, there is *no separate character data type — a character is just a String of length 1.\n"
   ]
  },
  {
   "cell_type": "code",
   "execution_count": 1,
   "id": "d27cd15a",
   "metadata": {},
   "outputs": [
    {
     "name": "stdout",
     "output_type": "stream",
     "text": [
      "A 5 #\n"
     ]
    }
   ],
   "source": [
    "char1 = 'A'\n",
    "char2 = '5'\n",
    "char3 = '#'\n",
    "print(char1,char2,char3)"
   ]
  },
  {
   "cell_type": "markdown",
   "id": "f6bc6870",
   "metadata": {},
   "source": [
    "2.String\n",
    "Astring is a collection characters,words,or sentence enclosed in quotes"
   ]
  },
  {
   "cell_type": "code",
   "execution_count": 4,
   "id": "644a4eb1",
   "metadata": {},
   "outputs": [
    {
     "name": "stdout",
     "output_type": "stream",
     "text": [
      "ghanii\n",
      "cast dasti\n"
     ]
    }
   ],
   "source": [
    "\n",
    "name = \"ghanii\"\n",
    "sentence = \"cast dasti\"\n",
    "print(name)\n",
    "print(sentence)"
   ]
  },
  {
   "cell_type": "markdown",
   "id": "3ff1fd79",
   "metadata": {},
   "source": [
    "3.Operations on strings\n",
    "(A)Concentration(joining string)\n",
    "combining two or more stings using + operaters"
   ]
  },
  {
   "cell_type": "code",
   "execution_count": null,
   "id": "b834561c",
   "metadata": {},
   "outputs": [],
   "source": [
    "first_name = \"Usman\"\n",
    "last_name = \"dasti\"\n",
    "full_name = title + \" \" +\n",
    "last_name\n",
    "print(full_name)"
   ]
  },
  {
   "cell_type": "markdown",
   "id": "a716b865",
   "metadata": {},
   "source": [
    "(B)Repetion Strings\n",
    "reperting a string using * operater,"
   ]
  },
  {
   "cell_type": "code",
   "execution_count": null,
   "id": "64014cd3",
   "metadata": {},
   "outputs": [],
   "source": [
    "word = \"kha\"\n",
    "print(* 5)"
   ]
  },
  {
   "cell_type": "markdown",
   "id": "e4484420",
   "metadata": {},
   "source": [
    "(C)Indexing\n",
    "Accesing individual charactersin a string (stsrs from index)"
   ]
  },
  {
   "cell_type": "code",
   "execution_count": null,
   "id": "1a18b47d",
   "metadata": {},
   "outputs": [],
   "source": [
    "word = \"Metalern\"\n",
    "print(word[0])\n",
    "print(word[3])"
   ]
  },
  {
   "cell_type": "markdown",
   "id": "de76ab14",
   "metadata": {},
   "source": [
    "(D)Slicing( Getting parts of a string)\n",
    "\n",
    "Extracting parts of a string 'using start; end index formats"
   ]
  },
  {
   "cell_type": "code",
   "execution_count": null,
   "id": "1cbdb068",
   "metadata": {},
   "outputs": [],
   "source": [
    " text = \"openAI Chatbot\"\n",
    "prnt(text[0:5])     # \"opea AI\"Arit\n",
    "Print(text[4:6])\n",
    "\n",
    "\n"
   ]
  },
  {
   "cell_type": "markdown",
   "id": "af9dd48f",
   "metadata": {},
   "source": [
    "(E) Length(find string size)\n",
    "using len(tp find how many characters)"
   ]
  },
  {
   "cell_type": "code",
   "execution_count": 10,
   "id": "aeb699e2",
   "metadata": {},
   "outputs": [
    {
     "name": "stdout",
     "output_type": "stream",
     "text": [
      "6\n"
     ]
    }
   ],
   "source": [
    "text = \"python\"\n",
    "print(len(text))"
   ]
  }
 ],
 "metadata": {
  "kernelspec": {
   "display_name": "Python 3",
   "language": "python",
   "name": "python3"
  },
  "language_info": {
   "codemirror_mode": {
    "name": "ipython",
    "version": 3
   },
   "file_extension": ".py",
   "mimetype": "text/x-python",
   "name": "python",
   "nbconvert_exporter": "python",
   "pygments_lexer": "ipython3",
   "version": "3.13.3"
  }
 },
 "nbformat": 4,
 "nbformat_minor": 5
}
